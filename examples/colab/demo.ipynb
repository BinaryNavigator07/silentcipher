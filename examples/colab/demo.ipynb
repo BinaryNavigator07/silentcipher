{
 "cells": [
  {
   "cell_type": "code",
   "execution_count": null,
   "metadata": {},
   "outputs": [],
   "source": [
    "import silentcipher\n",
    "import librosa"
   ]
  },
  {
   "cell_type": "code",
   "execution_count": null,
   "metadata": {},
   "outputs": [],
   "source": [
    "model = silentcipher.get_model(\n",
    "    model_type='44.1k', \n",
    "    ckpt_path='../Models/44_1_khz/73999_iteration', \n",
    "    config_path='../Models/44_1_khz/73999_iteration/hparams.yaml'\n",
    ")"
   ]
  },
  {
   "cell_type": "markdown",
   "metadata": {},
   "source": [
    "# Encode from waveform"
   ]
  },
  {
   "cell_type": "code",
   "execution_count": null,
   "metadata": {},
   "outputs": [],
   "source": [
    "# Load audio\n",
    "y, sr = librosa.load('test.wav', sr=None)"
   ]
  },
  {
   "cell_type": "code",
   "execution_count": null,
   "metadata": {},
   "outputs": [],
   "source": [
    "# Encode\n",
    "# The message should be in the form of five 8-bit characters, giving a total message capacity of 40 bits \n",
    "\n",
    "encoded, sdr = model.encode_wav(y, sr, [123, 234, 111, 222, 11])\n",
    "\n",
    "# You can specify the message SDR (in dB) along with the encode_wav function. But this may result in unexpected detection accuracy\n",
    "# encoded, sdr = model.encode_wav(y, sr, [123, 234, 111, 222, 11], message_sdr=47)"
   ]
  },
  {
   "cell_type": "code",
   "execution_count": null,
   "metadata": {},
   "outputs": [],
   "source": [
    "# Decode\n",
    "result = model.decode_wav(encoded, sr, phase_shift_decoding=False)"
   ]
  },
  {
   "cell_type": "code",
   "execution_count": null,
   "metadata": {},
   "outputs": [],
   "source": [
    "# Verification\n",
    "assert result['status']\n",
    "assert result['messages'][0] == [123, 234, 111, 222, 11], result['messages'][0]\n",
    "assert result['confidences'][0] == 1, result['confidences'][0]"
   ]
  },
  {
   "cell_type": "markdown",
   "metadata": {},
   "source": [
    "# Encode from file"
   ]
  },
  {
   "cell_type": "code",
   "execution_count": null,
   "metadata": {},
   "outputs": [],
   "source": [
    "# Encode\n",
    "# The message should be in the form of five 8-bit characters, giving a total message capacity of 40 bits \n",
    "\n",
    "model.encode('test.wav', 'encoded.wav', [123, 234, 111, 222, 11])\n",
    "\n",
    "# You can specify the message SDR (in dB) along with the encode function. But this may result in unexpected detection accuracy\n",
    "# model.encode('test.wav', 'encoded.wav', [123, 234, 111, 222, 11], message_sdr=47)"
   ]
  },
  {
   "cell_type": "code",
   "execution_count": null,
   "metadata": {},
   "outputs": [],
   "source": [
    "# Decode\n",
    "result = model.decode('encoded.wav', phase_shift_decoding=False)"
   ]
  },
  {
   "cell_type": "code",
   "execution_count": null,
   "metadata": {},
   "outputs": [],
   "source": [
    "# Verification\n",
    "assert result['messages'][0] == [123, 234, 111, 222, 11], result['messages'][0]\n",
    "assert result['confidences'][0] == 1, result['confidences'][0]\n",
    "\n",
    "print('Test Successful')"
   ]
  }
 ],
 "metadata": {
  "kernelspec": {
   "display_name": "bin",
   "language": "python",
   "name": "python3"
  },
  "language_info": {
   "name": "python",
   "version": "3.11.7"
  }
 },
 "nbformat": 4,
 "nbformat_minor": 2
}
